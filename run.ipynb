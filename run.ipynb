{
 "cells": [
  {
   "cell_type": "code",
   "execution_count": 5,
   "id": "efb96c16",
   "metadata": {},
   "outputs": [],
   "source": [
    "import pickle\n",
    "import os\n",
    "import torch\n",
    "import torch.nn as nn\n",
    "import time"
   ]
  },
  {
   "cell_type": "markdown",
   "id": "957dc8aa",
   "metadata": {},
   "source": [
    "## load the data"
   ]
  },
  {
   "cell_type": "code",
   "execution_count": 2,
   "id": "6e05002d",
   "metadata": {},
   "outputs": [],
   "source": [
    "root = \"/home/chaoqiy2/data/MNIST/Spatio-temporal/\"\n",
    "claim_tensor = torch.Tensor(\n",
    "    pickle.load(open(os.path.join(root, \"claim_tensor.pkl\"), \"rb\"))\n",
    ")\n",
    "county_tensor = torch.Tensor(\n",
    "    pickle.load(open(os.path.join(root, \"county_tensor.pkl\"), \"rb\"))\n",
    ")\n",
    "covid_tensor = torch.Tensor(\n",
    "    pickle.load(open(os.path.join(root, \"covid_tensor.pkl\"), \"rb\"))\n",
    ")\n",
    "distance_mat = torch.Tensor(\n",
    "    pickle.load(open(os.path.join(root, \"distance_mat.pkl\"), \"rb\"))\n",
    ")\n",
    "hos_tensor = torch.Tensor(pickle.load(open(os.path.join(root, \"hos_tensor.pkl\"), \"rb\")))\n",
    "mob_mat = torch.Tensor(pickle.load(open(os.path.join(root, \"mob_mat.pkl\"), \"rb\")))\n",
    "vac_tensor = torch.Tensor(pickle.load(open(os.path.join(root, \"vac_tensor.pkl\"), \"rb\")))\n",
    "\n",
    "feat_name = pickle.load(open(os.path.join(root, \"feat_name.pkl\"), \"rb\"))"
   ]
  },
  {
   "cell_type": "markdown",
   "id": "2a86dfac",
   "metadata": {},
   "source": [
    "## combine the data"
   ]
  },
  {
   "cell_type": "code",
   "execution_count": 40,
   "id": "40d28f1e",
   "metadata": {},
   "outputs": [
    {
     "name": "stdout",
     "output_type": "stream",
     "text": [
      "torch.Size([2334, 14]) torch.Size([2334, 639, 59]) torch.Size([2334, 2334]) torch.Size([2334, 2334])\n"
     ]
    }
   ],
   "source": [
    "device = \"cuda:0\"\n",
    "demographs = county_tensor\n",
    "cty_day_feat = torch.cat(\n",
    "    [claim_tensor, covid_tensor.unsqueeze(-1), hos_tensor, vac_tensor], dim=-1\n",
    ").to(device)\n",
    "graph1 = distance_mat.to(device)\n",
    "graph2 = mob_mat.to(device)\n",
    "\n",
    "print(demographs.shape, cty_day_feat.shape, graph1.shape, graph2.shape)"
   ]
  },
  {
   "cell_type": "markdown",
   "id": "517e3995",
   "metadata": {},
   "source": [
    "## optimize"
   ]
  },
  {
   "cell_type": "code",
   "execution_count": 157,
   "id": "c69459e2",
   "metadata": {
    "scrolled": true
   },
   "outputs": [],
   "source": [
    "def optimize(A, B, D, reg=1e-8):\n",
    "    u = torch.linalg.solve(A + reg * D, B)\n",
    "    return u\n",
    "\n",
    "def CPD(T, R, graph, Lambda, iteration=50, device=\"cuda:0\", A1=None, A2=None, A3=None):\n",
    "    # preparation\n",
    "    loss_list = []\n",
    "    d1, d2, d3 = T.shape\n",
    "\n",
    "    if A1 is None:\n",
    "        A1 = torch.randn(d1, R).to(device)\n",
    "        A2 = torch.randn(d2, R).to(device)\n",
    "        A3 = torch.randn(d3, R).to(device)\n",
    "    \n",
    "    D = torch.eye(R).to(device)\n",
    "    \n",
    "    # ALS \n",
    "    tic = time.time()\n",
    "    for i in range(iteration):\n",
    "\n",
    "        # sub-iteration\n",
    "        if i > 10:\n",
    "            A1_ = A1.clone()\n",
    "            loss = []\n",
    "            for j in range(1):\n",
    "                A1 = optimize((A3.T@A3)*(A2.T@A2), torch.einsum('ijk,jr,kr->ri',T,A2,A3) - \\\n",
    "                              Lambda * A1.T@graph, D).T\n",
    "                loss.append((torch.norm(A1 - A1_) / torch.norm(A1_)).item())\n",
    "                A1_ = A1.clone()\n",
    "#             print (\"A precision:\", loss)\n",
    "        else:\n",
    "            A1 = optimize((A3.T@A3)*(A2.T@A2), torch.einsum('ijk,jr,kr->ri',T,A2,A3), D).T\n",
    "            A2 = optimize((A1.T@A1)*(A3.T@A3), torch.einsum('ijk,ir,kr->rj',T,A1,A3), D).T\n",
    "            A3 = optimize((A1.T@A1)*(A2.T@A2), torch.einsum('ijk,ir,jr->rk',T,A1,A2), D).T\n",
    "\n",
    "        # loss \n",
    "        rec = torch.einsum('ir,jr,kr->ijk',A1,A2,A3)\n",
    "        loss1 = torch.norm(rec - T) / torch.norm(T)\n",
    "        loss2 = torch.trace(A1.T@graph@A1)\n",
    "        if i % 10 == 9:\n",
    "            print ('{}/{}'.format(i, iteration), 'loss1:', loss1.item(), 'loss2:', loss2.item(), 'time span:', time.time() - tic)\n",
    "\n",
    "        # collect loss\n",
    "        tic = time.time() \n",
    "        loss_list.append((loss1+loss2).item())\n",
    "\n",
    "    return A1, A2, A3, loss_list\n",
    "\n",
    "\n",
    "def get_laplacian(A, normalized=True):\n",
    "    # -------------------------------\n",
    "    # calculate the laplacian\n",
    "    A = torch.Tensor(A)\n",
    "    D = A.sum(axis=1)\n",
    "    if normalized:\n",
    "        D_rev = torch.diag(D ** (-0.5))\n",
    "        L = torch.eye(len(D)) - D_rev @ A @ D_rev\n",
    "    else:\n",
    "        L = torch.diag(D) - A\n",
    "    L = L.to(device)\n",
    "    # ---------------------------------\n",
    "    return L\n",
    "\n",
    "dis_laplacian = get_laplacian(distance_mat)\n",
    "mob_laplacian = get_laplacian(mob_mat)\n",
    "graph = - 1e-1 * dis_laplacian + 1 * mob_laplacian "
   ]
  },
  {
   "cell_type": "markdown",
   "id": "b331186a",
   "metadata": {},
   "source": [
    "## normalize the tensor"
   ]
  },
  {
   "cell_type": "code",
   "execution_count": 158,
   "id": "620cc9cf",
   "metadata": {},
   "outputs": [],
   "source": [
    "MEAN = torch.mean(cty_day_feat, dim=(0,1), keepdim=True)\n",
    "STD = torch.std(cty_day_feat, dim=(0,1), keepdim=True)\n",
    "new_T = cty_day_feat / MEAN"
   ]
  },
  {
   "cell_type": "code",
   "execution_count": 159,
   "id": "e071ed02",
   "metadata": {},
   "outputs": [],
   "source": [
    "# A1 = torch.randn(2334, 5)\n",
    "# A2 = torch.randn(639, 5)\n",
    "# A3 = torch.randn(59, 5)\n",
    "# T = torch.einsum(\"ir,jr,kr->ijk\",A1,A2,A3)\n",
    "# MEAN = torch.mean(T, dim=(0,1), keepdim=True)\n",
    "# STD = torch.std(T, dim=(0,1), keepdim=True)\n",
    "# new_T = ((T - MEAN) / STD).to(device)\n"
   ]
  },
  {
   "cell_type": "code",
   "execution_count": 165,
   "id": "06ccf87d",
   "metadata": {},
   "outputs": [
    {
     "name": "stdout",
     "output_type": "stream",
     "text": [
      "9/50 loss1: 0.05293762683868408 loss2: 814290.0 time span: 0.02203845977783203\n",
      "19/50 loss1: 0.052398793399333954 loss2: 835749.625 time span: 0.007366180419921875\n",
      "29/50 loss1: 0.052398793399333954 loss2: 835749.625 time span: 0.0073757171630859375\n",
      "39/50 loss1: 0.052398793399333954 loss2: 835749.625 time span: 0.007353782653808594\n",
      "49/50 loss1: 0.052398793399333954 loss2: 835749.625 time span: 0.0073697566986083984\n"
     ]
    }
   ],
   "source": [
    "A1, A2, A3, loss_list = CPD(cty_day_feat, graph=graph, Lambda=1e3, R=5, iteration=50, device=device)"
   ]
  },
  {
   "cell_type": "markdown",
   "id": "d2437c8e",
   "metadata": {},
   "source": [
    "## dump out the data"
   ]
  },
  {
   "cell_type": "code",
   "execution_count": 176,
   "id": "c7b5bde5",
   "metadata": {},
   "outputs": [],
   "source": [
    "import pickle\n",
    "import numpy as np\n",
    "pickle.dump(A1.cpu().numpy(), open(\"decomp.pkl\", \"wb\"))"
   ]
  },
  {
   "cell_type": "code",
   "execution_count": 181,
   "id": "17c83468",
   "metadata": {},
   "outputs": [
    {
     "name": "stderr",
     "output_type": "stream",
     "text": [
      "/tmp/ipykernel_34903/2022746450.py:1: RuntimeWarning: invalid value encountered in log\n",
      "  plt.hist(np.log(-A1[:, 1].cpu().numpy()))\n"
     ]
    },
    {
     "data": {
      "text/plain": [
       "(array([  3.,   6.,  53., 242., 338., 525., 521., 284.,  91.,  13.]),\n",
       " array([-11.691273 , -10.084544 ,  -8.477816 ,  -6.871086 ,  -5.2643576,\n",
       "         -3.6576288,  -2.0509   ,  -0.4441712,   1.1625576,   2.7692864,\n",
       "          4.376015 ], dtype=float32),\n",
       " <BarContainer object of 10 artists>)"
      ]
     },
     "execution_count": 181,
     "metadata": {},
     "output_type": "execute_result"
    },
    {
     "data": {
      "image/png": "[encoded data removed]",
      "text/plain": [
       "<Figure size 432x288 with 1 Axes>"
      ]
     },
     "metadata": {
      "needs_background": "light"
     },
     "output_type": "display_data"
    }
   ],
   "source": [
    "plt.hist(np.log(-A1[:, 1].cpu().numpy()))"
   ]
  },
  {
   "cell_type": "code",
   "execution_count": 184,
   "id": "2503f5cf",
   "metadata": {},
   "outputs": [
    {
     "data": {
      "text/plain": [
       "[8.366516072160513e-06,\n",
       " 4.171941291326946e-05,\n",
       " 0.00020803255002531403,\n",
       " 0.0010373498906893798,\n",
       " 0.0051727149132769325,\n",
       " 0.025793602059426626,\n",
       " 0.1286190942965734,\n",
       " 0.641355611347234,\n",
       " 3.1981022915471025,\n",
       " 15.947249990865679,\n",
       " 79.52051192370948]"
      ]
     },
     "execution_count": 184,
     "metadata": {},
     "output_type": "execute_result"
    }
   ],
   "source": [
    "[item for item in np.exp([-11.691273 , -10.084544 ,  -8.477816 ,  -6.871086 ,  -5.2643576,\n",
    "         -3.6576288,  -2.0509   ,  -0.4441712,   1.1625576,   2.7692864,\n",
    "          4.376015 ])]"
   ]
  },
  {
   "cell_type": "code",
   "execution_count": null,
   "id": "f2319ad0",
   "metadata": {},
   "outputs": [],
   "source": []
  }
 ],
 "metadata": {
  "kernelspec": {
   "display_name": "Python 3",
   "language": "python",
   "name": "python3"
  },
  "language_info": {
   "codemirror_mode": {
    "name": "ipython",
    "version": 3
   },
   "file_extension": ".py",
   "mimetype": "text/x-python",
   "name": "python",
   "nbconvert_exporter": "python",
   "pygments_lexer": "ipython3",
   "version": "3.9.12"
  }
 },
 "nbformat": 4,
 "nbformat_minor": 5
}
